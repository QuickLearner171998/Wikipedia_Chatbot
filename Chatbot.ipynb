{
  "nbformat": 4,
  "nbformat_minor": 0,
  "metadata": {
    "colab": {
      "name": "Chatbot.ipynb",
      "provenance": [],
      "collapsed_sections": [],
      "mount_file_id": "1rWYWTccoA33q7F81EnnS-jSa-SMVpygD",
      "authorship_tag": "ABX9TyMmjdPzG+7KIieSjB5B2VJX",
      "include_colab_link": true
    },
    "kernelspec": {
      "name": "python3",
      "display_name": "Python 3"
    }
  },
  "cells": [
    {
      "cell_type": "markdown",
      "metadata": {
        "id": "view-in-github",
        "colab_type": "text"
      },
      "source": [
        "<a href=\"https://colab.research.google.com/github/QuickLearner171998/Wikipedia_Chatbot/blob/master/Chatbot.ipynb\" target=\"_parent\"><img src=\"https://colab.research.google.com/assets/colab-badge.svg\" alt=\"Open In Colab\"/></a>"
      ]
    },
    {
      "cell_type": "code",
      "metadata": {
        "id": "zObHQ3m47hiD",
        "colab_type": "code",
        "colab": {}
      },
      "source": [
        "! pip install -r requirement.txt"
      ],
      "execution_count": 0,
      "outputs": []
    },
    {
      "cell_type": "code",
      "metadata": {
        "id": "GaXRpPwjpuWu",
        "colab_type": "code",
        "colab": {}
      },
      "source": [
        "from chatbot import Chat, MultiFunctionCall\n",
        "from nltk.chat.util import reflections\n",
        "import wikipedia"
      ],
      "execution_count": 0,
      "outputs": []
    },
    {
      "cell_type": "code",
      "metadata": {
        "id": "aZLni_s_bF32",
        "colab_type": "code",
        "colab": {}
      },
      "source": [
        "def whoIs(query,session_id=\"general\"):\n",
        "    try:\n",
        "        return wikipedia.summary(query)\n",
        "    except:\n",
        "        for newquery in wikipedia.search(query):\n",
        "            try:\n",
        "                return wikipedia.summary(newquery)\n",
        "            except:\n",
        "                pass\n",
        "    return \"I don't know about \"+query\n",
        "\n",
        "first_question=\"Hi, how are you?\"\n"
      ],
      "execution_count": 0,
      "outputs": []
    },
    {
      "cell_type": "code",
      "metadata": {
        "id": "i5XixaT8dRDx",
        "colab_type": "code",
        "colab": {}
      },
      "source": [
        "call = MultiFunctionCall({\"whoIs\":whoIs})\n"
      ],
      "execution_count": 0,
      "outputs": []
    },
    {
      "cell_type": "code",
      "metadata": {
        "id": "QvxuqpJnjHTP",
        "colab_type": "code",
        "colab": {}
      },
      "source": [
        "Chat(\"temp.template\", reflections,call=call).converse(firstQuestion)"
      ],
      "execution_count": 0,
      "outputs": []
    },
    {
      "cell_type": "code",
      "metadata": {
        "id": "VkTHQglrlNMF",
        "colab_type": "code",
        "colab": {}
      },
      "source": [
        ""
      ],
      "execution_count": 0,
      "outputs": []
    }
  ]
}