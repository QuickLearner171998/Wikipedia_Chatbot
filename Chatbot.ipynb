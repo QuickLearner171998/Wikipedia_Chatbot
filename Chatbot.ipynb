{
  "nbformat": 4,
  "nbformat_minor": 0,
  "metadata": {
    "colab": {
      "name": "Chatbot.ipynb",
      "provenance": [],
      "collapsed_sections": [],
      "mount_file_id": "1rWYWTccoA33q7F81EnnS-jSa-SMVpygD",
      "authorship_tag": "ABX9TyMP+wRnazvKP1MraBYkmU94",
      "include_colab_link": true
    },
    "kernelspec": {
      "name": "python3",
      "display_name": "Python 3"
    }
  },
  "cells": [
    {
      "cell_type": "markdown",
      "metadata": {
        "id": "view-in-github",
        "colab_type": "text"
      },
      "source": [
        "<a href=\"https://colab.research.google.com/github/QuickLearner171998/Wikipedia_Chatbot/blob/master/Chatbot.ipynb\" target=\"_parent\"><img src=\"https://colab.research.google.com/assets/colab-badge.svg\" alt=\"Open In Colab\"/></a>"
      ]
    },
    {
      "cell_type": "code",
      "metadata": {
        "id": "u5FKDzU27AYp",
        "colab_type": "code",
        "colab": {
          "base_uri": "https://localhost:8080/",
          "height": 34
        },
        "outputId": "58c279af-4fb2-4f3a-f2ee-c64fe87b7d21"
      },
      "source": [
        "% cd \"/content/drive/My Drive/00_MY Projects and courses/Upwork/Chatbot\""
      ],
      "execution_count": 1,
      "outputs": [
        {
          "output_type": "stream",
          "text": [
            "/content/drive/My Drive/00_MY Projects and courses/Upwork/Chatbot\n"
          ],
          "name": "stdout"
        }
      ]
    },
    {
      "cell_type": "code",
      "metadata": {
        "id": "zObHQ3m47hiD",
        "colab_type": "code",
        "colab": {
          "base_uri": "https://localhost:8080/",
          "height": 547
        },
        "outputId": "af677ea3-3948-47cd-ac57-a4746ebb6949"
      },
      "source": [
        "! pip install -r requirement.txt"
      ],
      "execution_count": 2,
      "outputs": [
        {
          "output_type": "stream",
          "text": [
            "Collecting py_execute\n",
            "  Downloading https://files.pythonhosted.org/packages/f6/40/b87fe4f4605fc002e9496a347407fb861251d1173f21e6d513b699e2cc75/py-execute-0.1.7.tar.gz\n",
            "Collecting wikipedia\n",
            "  Downloading https://files.pythonhosted.org/packages/67/35/25e68fbc99e672127cc6fbb14b8ec1ba3dfef035bf1e4c90f78f24a80b7d/wikipedia-1.4.0.tar.gz\n",
            "Collecting mock\n",
            "  Downloading https://files.pythonhosted.org/packages/cd/74/d72daf8dff5b6566db857cfd088907bb0355f5dd2914c4b3ef065c790735/mock-4.0.2-py3-none-any.whl\n",
            "Collecting chatbotAI\n",
            "\u001b[?25l  Downloading https://files.pythonhosted.org/packages/d0/38/dac7b1394c2b04212fce5b89d4d2b7d95fa2f70c1081f463cc8d86ff6a2a/chatbotAI-0.2.1.01-py2.py3-none-any.whl (3.9MB)\n",
            "\u001b[K     |████████████████████████████████| 3.9MB 12.5MB/s \n",
            "\u001b[?25hCollecting colorama==0.2.7\n",
            "  Downloading https://files.pythonhosted.org/packages/dc/e8/ffa47bd75f026d716d2297e9b8e93a4d537530318514cdb8b60d50080d54/colorama-0.2.7.tar.gz\n",
            "Requirement already satisfied: beautifulsoup4 in /usr/local/lib/python3.6/dist-packages (from wikipedia->-r requirement.txt (line 2)) (4.6.3)\n",
            "Requirement already satisfied: requests<3.0.0,>=2.0.0 in /usr/local/lib/python3.6/dist-packages (from wikipedia->-r requirement.txt (line 2)) (2.21.0)\n",
            "Requirement already satisfied: certifi>=2017.4.17 in /usr/local/lib/python3.6/dist-packages (from requests<3.0.0,>=2.0.0->wikipedia->-r requirement.txt (line 2)) (2019.11.28)\n",
            "Requirement already satisfied: idna<2.9,>=2.5 in /usr/local/lib/python3.6/dist-packages (from requests<3.0.0,>=2.0.0->wikipedia->-r requirement.txt (line 2)) (2.8)\n",
            "Requirement already satisfied: chardet<3.1.0,>=3.0.2 in /usr/local/lib/python3.6/dist-packages (from requests<3.0.0,>=2.0.0->wikipedia->-r requirement.txt (line 2)) (3.0.4)\n",
            "Requirement already satisfied: urllib3<1.25,>=1.21.1 in /usr/local/lib/python3.6/dist-packages (from requests<3.0.0,>=2.0.0->wikipedia->-r requirement.txt (line 2)) (1.24.3)\n",
            "Building wheels for collected packages: py-execute, wikipedia, colorama\n",
            "  Building wheel for py-execute (setup.py) ... \u001b[?25l\u001b[?25hdone\n",
            "  Created wheel for py-execute: filename=py_execute-0.1.7-cp36-none-any.whl size=6314 sha256=6b2b47ff1180b58d9052df923cdf16f013d6ee0bc0f732c02f45b6047785fad1\n",
            "  Stored in directory: /root/.cache/pip/wheels/f4/c7/a2/d00b549589b8171c232ad0ee0ace5709e856db54800f85dc17\n",
            "  Building wheel for wikipedia (setup.py) ... \u001b[?25l\u001b[?25hdone\n",
            "  Created wheel for wikipedia: filename=wikipedia-1.4.0-cp36-none-any.whl size=11686 sha256=23ead1d2090af793e77e7a58852280f7fef048288500fd7049350b341f5e9c02\n",
            "  Stored in directory: /root/.cache/pip/wheels/87/2a/18/4e471fd96d12114d16fe4a446d00c3b38fb9efcb744bd31f4a\n",
            "  Building wheel for colorama (setup.py) ... \u001b[?25l\u001b[?25hdone\n",
            "  Created wheel for colorama: filename=colorama-0.2.7-cp36-none-any.whl size=13006 sha256=9913cb72fca2fad878190d26aaae720359ec9f3919b5e5a1894974fec23e7e7d\n",
            "  Stored in directory: /root/.cache/pip/wheels/b3/12/c4/d1e84668a58ad5c1c7d945e344684fe273a6c961d95f04febe\n",
            "Successfully built py-execute wikipedia colorama\n",
            "Installing collected packages: colorama, py-execute, wikipedia, mock, chatbotAI\n",
            "Successfully installed chatbotAI-0.2.1.1 colorama-0.2.7 mock-4.0.2 py-execute-0.1.7 wikipedia-1.4.0\n"
          ],
          "name": "stdout"
        }
      ]
    },
    {
      "cell_type": "code",
      "metadata": {
        "id": "GaXRpPwjpuWu",
        "colab_type": "code",
        "colab": {}
      },
      "source": [
        "from chatbot import Chat, MultiFunctionCall\n",
        "from nltk.chat.util import reflections\n",
        "import wikipedia"
      ],
      "execution_count": 0,
      "outputs": []
    },
    {
      "cell_type": "code",
      "metadata": {
        "id": "aZLni_s_bF32",
        "colab_type": "code",
        "colab": {}
      },
      "source": [
        "def whoIs(query,session_id=\"general\"):\n",
        "    try:\n",
        "        return wikipedia.summary(query)\n",
        "    except:\n",
        "        for newquery in wikipedia.search(query):\n",
        "            try:\n",
        "                return wikipedia.summary(newquery)\n",
        "            except:\n",
        "                pass\n",
        "    return \"I don't know about \"+query\n",
        "\n",
        "first_question=\"Hi, how are you?\"\n"
      ],
      "execution_count": 0,
      "outputs": []
    },
    {
      "cell_type": "code",
      "metadata": {
        "id": "i5XixaT8dRDx",
        "colab_type": "code",
        "colab": {}
      },
      "source": [
        "call = MultiFunctionCall({\"whoIs\":whoIs})\n"
      ],
      "execution_count": 0,
      "outputs": []
    },
    {
      "cell_type": "code",
      "metadata": {
        "id": "QvxuqpJnjHTP",
        "colab_type": "code",
        "colab": {}
      },
      "source": [
        "Chat(\"temp.template\", reflections,call=call).converse(firstQuestion)"
      ],
      "execution_count": 0,
      "outputs": []
    },
    {
      "cell_type": "code",
      "metadata": {
        "id": "VkTHQglrlNMF",
        "colab_type": "code",
        "colab": {}
      },
      "source": [
        ""
      ],
      "execution_count": 0,
      "outputs": []
    }
  ]
}