{
  "nbformat": 4,
  "nbformat_minor": 0,
  "metadata": {
    "colab": {
      "name": "Chatbot.ipynb",
      "provenance": [],
      "collapsed_sections": [],
      "mount_file_id": "1rWYWTccoA33q7F81EnnS-jSa-SMVpygD",
      "authorship_tag": "ABX9TyOgNgOfwEvsx9R+CuOHueZ+",
      "include_colab_link": true
    },
    "kernelspec": {
      "name": "python3",
      "display_name": "Python 3"
    }
  },
  "cells": [
    {
      "cell_type": "markdown",
      "metadata": {
        "id": "view-in-github",
        "colab_type": "text"
      },
      "source": [
        "<a href=\"https://colab.research.google.com/github/QuickLearner171998/Wikipedia_Chatbot/blob/master/Chatbot.ipynb\" target=\"_parent\"><img src=\"https://colab.research.google.com/assets/colab-badge.svg\" alt=\"Open In Colab\"/></a>"
      ]
    },
    {
      "cell_type": "code",
      "metadata": {
        "id": "G0vmBKQ496ff",
        "colab_type": "code",
        "colab": {}
      },
      "source": [
        ""
      ],
      "execution_count": 0,
      "outputs": []
    },
    {
      "cell_type": "code",
      "metadata": {
        "id": "zObHQ3m47hiD",
        "colab_type": "code",
        "colab": {}
      },
      "source": [
        "! pip install -r requirement.txt"
      ],
      "execution_count": 0,
      "outputs": []
    },
    {
      "cell_type": "code",
      "metadata": {
        "id": "GaXRpPwjpuWu",
        "colab_type": "code",
        "colab": {}
      },
      "source": [
        "from chatbot import Chat, register_call\n",
        "from nltk.chat.util import reflections\n",
        "import wikipedia"
      ],
      "execution_count": 0,
      "outputs": []
    },
    {
      "cell_type": "code",
      "metadata": {
        "id": "aZLni_s_bF32",
        "colab_type": "code",
        "colab": {}
      },
      "source": [
        "@register_call(\"whoIs\")\n",
        "def whoIs(query,session_id=\"general\"):\n",
        "    try:\n",
        "        return wikipedia.summary(query)\n",
        "    except Exception:\n",
        "        for newquery in wikipedia.search(query):\n",
        "            try:\n",
        "                return wikipedia.summary(newquery)\n",
        "            except Exception:\n",
        "                pass\n",
        "    return \"I don't know about \"+query\n",
        "\n",
        "firstQuestion=\"Hi, how are you?\"\n"
      ],
      "execution_count": 0,
      "outputs": []
    },
    {
      "cell_type": "code",
      "metadata": {
        "id": "QvxuqpJnjHTP",
        "colab_type": "code",
        "colab": {}
      },
      "source": [
        "Chat(\"temp.template\").converse(firstQuestion)"
      ],
      "execution_count": 0,
      "outputs": []
    }
  ]
}